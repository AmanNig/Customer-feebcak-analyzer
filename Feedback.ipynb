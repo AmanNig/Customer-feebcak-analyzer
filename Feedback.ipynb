{
  "nbformat": 4,
  "nbformat_minor": 0,
  "metadata": {
    "colab": {
      "provenance": [],
      "include_colab_link": true
    },
    "kernelspec": {
      "name": "python3",
      "display_name": "Python 3"
    },
    "language_info": {
      "name": "python"
    }
  },
  "cells": [
    {
      "cell_type": "markdown",
      "metadata": {
        "id": "view-in-github",
        "colab_type": "text"
      },
      "source": [
        "<a href=\"https://colab.research.google.com/github/AmanNig/Customer-feebcak-analyzer/blob/main/Feedback.ipynb\" target=\"_parent\"><img src=\"https://colab.research.google.com/assets/colab-badge.svg\" alt=\"Open In Colab\"/></a>"
      ]
    },
    {
      "cell_type": "markdown",
      "source": [
        "# New Section"
      ],
      "metadata": {
        "id": "eo3d38ydf2ye"
      }
    },
    {
      "cell_type": "code",
      "source": [
        "from google.colab import drive\n",
        "drive.mount('/content/drive')"
      ],
      "metadata": {
        "colab": {
          "base_uri": "https://localhost:8080/"
        },
        "id": "QomKhX5Fa7Rv",
        "outputId": "6c7b1f02-55a4-43a0-eb60-fd4b74f8c279"
      },
      "execution_count": null,
      "outputs": [
        {
          "output_type": "stream",
          "name": "stdout",
          "text": [
            "Mounted at /content/drive\n"
          ]
        }
      ]
    },
    {
      "cell_type": "code",
      "source": [
        "import pandas as pd\n",
        "import datetime\n",
        "import os\n",
        "import tensorflow as tf\n",
        "import numpy as np\n",
        "import tensorflow_hub as hub\n",
        "from sklearn.metrics import classification_report\n",
        "from sklearn.utils.class_weight import compute_class_weight\n",
        "\n",
        "df=pd.read_csv(\"/content/drive/MyDrive/Consumer_Train.csv\")\n",
        "df['Product'].unique()"
      ],
      "metadata": {
        "colab": {
          "base_uri": "https://localhost:8080/"
        },
        "id": "4Wr4FoDVxQcV",
        "outputId": "6946b3b9-6915-4a5e-d9e2-a7a161e7765a"
      },
      "execution_count": null,
      "outputs": [
        {
          "output_type": "execute_result",
          "data": {
            "text/plain": [
              "array(['Credit card or prepaid card', 'Checking or savings account',\n",
              "       'Debt collection', 'Student loan', 'Mortgage',\n",
              "       'Vehicle loan or lease'], dtype=object)"
            ]
          },
          "metadata": {},
          "execution_count": 3
        }
      ]
    },
    {
      "cell_type": "code",
      "source": [
        "pd.set_option('display.max_colwidth',-1)\n",
        "df"
      ],
      "metadata": {
        "colab": {
          "base_uri": "https://localhost:8080/",
          "height": 1000
        },
        "id": "dyIFfhQ61ke3",
        "outputId": "ebfd9a00-3c37-4bf3-e12b-ef8c57fa58ae"
      },
      "execution_count": null,
      "outputs": [
        {
          "output_type": "stream",
          "name": "stderr",
          "text": [
            "<ipython-input-4-3cbafbfd01ec>:1: FutureWarning: Passing a negative integer is deprecated in version 1.0 and will not be supported in future version. Instead, use None to not limit the column width.\n",
            "  pd.set_option('display.max_colwidth',-1)\n"
          ]
        },
        {
          "output_type": "execute_result",
          "data": {
            "text/plain": [
              "      Date received                      Product  \\\n",
              "0      1/31/2020     Credit card or prepaid card   \n",
              "1      4/20/2020     Credit card or prepaid card   \n",
              "2      4/10/2020     Checking or savings account   \n",
              "3      6/21/2020     Debt collection               \n",
              "4      1/7/2020      Debt collection               \n",
              "...         ...                  ...               \n",
              "45957  8/1/2019      Debt collection               \n",
              "45958  1/15/2020     Checking or savings account   \n",
              "45959  8/7/2019      Debt collection               \n",
              "45960  9/21/2019     Mortgage                      \n",
              "45961  3/12/2020     Debt collection               \n",
              "\n",
              "                                      Sub-product  \\\n",
              "0      General-purpose credit card or charge card   \n",
              "1      Store credit card                            \n",
              "2      Checking account                             \n",
              "3      Credit card debt                             \n",
              "4      Other debt                                   \n",
              "...           ...                                   \n",
              "45957  I do not know                                \n",
              "45958  Checking account                             \n",
              "45959  Other debt                                   \n",
              "45960  Conventional home mortgage                   \n",
              "45961  Medical debt                                 \n",
              "\n",
              "                                                 Issue  \\\n",
              "0      Other features, terms, or problems                \n",
              "1      Problem with a purchase shown on your statement   \n",
              "2      Managing an account                               \n",
              "3      Attempts to collect debt not owed                 \n",
              "4      Attempts to collect debt not owed                 \n",
              "...                                  ...                 \n",
              "45957  Attempts to collect debt not owed                 \n",
              "45958  Managing an account                               \n",
              "45959  Attempts to collect debt not owed                 \n",
              "45960  Trouble during payment process                    \n",
              "45961  Attempts to collect debt not owed                 \n",
              "\n",
              "                                                                              Sub-issue  \\\n",
              "0      Problem with rewards from credit card                                              \n",
              "1      Credit card company isn't resolving a dispute about a purchase on your statement   \n",
              "2      Deposits and withdrawals                                                           \n",
              "3      Debt was already discharged in bankruptcy and is no longer owed                    \n",
              "4      Debt is not yours                                                                  \n",
              "...                  ...                                                                  \n",
              "45957  Debt is not yours                                                                  \n",
              "45958  Problem using a debit or ATM card                                                  \n",
              "45959  Debt was result of identity theft                                                  \n",
              "45960  NaN                                                                                \n",
              "45961  Debt was paid                                                                      \n",
              "\n",
              "                                                                                                                                                                                                                                                                                                                                                                                                                                                                                                                                                                                                                                                                                                                                                                                                                                                                                                                                                                                                                                                                                                                                                                                                                                                                                                                                                                                                                                                                                                                                                                                                                                                                                                                                                                                                                                                                                                                                                                                                                                                                                                                                                                                                                                                                                                                                                                                                                                                                                                                                                                                                                                                                                                                                                                                                                                                                                                                                                                                                                                                                                                                                                                                                                                                                                                                                                                                                                                                                                                                                                                                                                                                                                                                                                                                                Consumer complaint narrative  \\\n",
              "0      I had three credit cards with Barclays. An UBER card, an XXXX XXXX card, and an XXXX  card. The UBER card is the only one I had been using and it was the main credit card I used on a daily basis. In late XX/XX/XXXX, I got a letter from Barclays saying they had closed my XXXX XXXX card due to inactivity. So I went online to see what was going on and found out they had already also closed my XXXX card. Now this was a big deal to me because the XXXX card had rewards on it worth over {$1000.00}. So I called Barclays customer support the next day and ended up having to talk to a manager. The only thing the manager told me was Barclays could close my credit card without notice for any reason. And as much as I tried to get her to comment on the rewards I had, she would not comment on them. Then I notice in Barclays terms and conditions for the XXXX  card that they had a mailing address set up for customers who wanted to make a formal complaint. So I wrote a letter and mailed it via USPS certified mail. Ive been waiting for over a month and have not received a response. \\n\\nThe letter I sent Barclays is attached. It includes more detail such as the fact that I was checking the Barclays web site every month using Barclays mobile app for the XXXX. And even after Barclays closes your credit card, there is no notice in the app that the card has been closed. The card account just shows up completely like a normal account. So there was no way for me to realize the card had been closed. Ive got screen shots of Barclays XXXX app included in the letter that shows this. And there is an XXXX  card account statement included with the letter showing the amount of rewards I had in that account. \\n\\nThe USPS tracking number for the letter I sent Barclays is XXXX. If you check the USPS web site you can see I mailed it XX/XX/2019 and Barclays received it XX/XX/2019.                                                                                                                                                                                                                                                                                                                                                                                                                                                                                                                                                                                                                                                                                                                                                                                                                                                                                                                                                                                                                                                                                                                                                                                                                                                                                                                                                                                                                                                                                                                                                                                                                                                                                                                                                                                                                                                                       \n",
              "1      I purchased furniture from Macy 's. The product arrived so damaged that I could not return in the packaging that was provided. I offered them the opportunity to refund half of the purchase and I would keep the furniture and they would not have to pick it up. \\n\\nSince COVID19, they closed all customer service including their credit card servicing department. I filed a dispute and have heard nothing.                                                                                                                                                                                                                                                                                                                                                                                                                                                                                                                                                                                                                                                                                                                                                                                                                                                                                                                                                                                                                                                                                                                                                                                                                                                                                                                                                                                                                                                                                                                                                                                                                                                                                                                                                                                                                                                                                                                                                                                                                                                                                                                                                                                                                                                                                                                                                                                                                                                                                                                                                                                                                                                                                                                                                                                                                                                                                                                                                                                                                                                                                                                                                                                                                                                                                                                                                                                                      \n",
              "2      I deposited a {$800.00} check to Chase from my XXXX  husbands XXXX checking account on XX/XX/20. It cleared on XX/XX/20. Chase will not clear the check for 15 days. \\n\\nChase has consistently been putting extremely long holds on my XXXX  spouses checks to me. They have tied up {$1500.00} for 15 days just this week alone. Now we are late with rent. \\n\\nI called Chase and held for 2 hours and spoke to XXXX at XXXX. I also sent images of the cleared deposits to chase via secure messaging. \\n\\nXXXX refused to call XXXX with me in a conference call with XXXX to confirm the check cleared because she does not know how to do her job and interact with a XXXX  XXXX person through an XXXX. She said we could go out in the middle of a pandemic to a branch or just wait. She refused to call XXXX with all parties sitting right there trying to explain to her how to confirm a check cleared. \\n\\nOur lease is up for renewal and we are already late with our rent. We dont need XXXX   like XXXX who dont know how to do their job absolutely destroying our finances. \\n\\nI want the hold on the cleared check released and a courtesy of {$100.00} for the rent late fees they are causing. \\n\\nThis was XXXX XXXX Whatsoever you do to the least of these you do to me. Shame on Chase.                                                                                                                                                                                                                                                                                                                                                                                                                                                                                                                                                                                                                                                                                                                                                                                                                                                                                                                                                                                                                                                                                                                                                                                                                                                                                                                                                                                                                                                                                                                                                                                                                                                                                                                                                                                                                                                                                                                                                                                                                                                                                                                                                                                                                                                                                                                                                                                                                                                                                                    \n",
              "3      Id like to file a complaint against Bank of America who I have been contacting for a long time but Im unable to interact with one decent person. Last time I made a complaint thru CFPB against Bank of America, I did a receive a call from someone who was trying to harass me over the phone. And I also remember when I spoke to the debt collection agency regarding my account, and I was told that theres nothing that I have to pay and I should contact the bank. I contacted the bank again and they werent listening anything. They asked me to contact the debt collection agency. Im sick and tired of this entire situation and I fail to understand why am I being harassed by Bank of America when I have made all the dues/payments and I dont owe them anything. \\nOnce again Id like to inform u the following charges due to which I have received severe harassment by the Bank of America : 1. An interest charge of {$1.00} on XX/XX/XXXX 2. An interest charge of {$3.00} and {$25.00} late fee on XX/XX/XXXX 3. An interest charge of {$1.00} and {$25.00} late fee on XX/XX/XXXX 4. An interest charge of {$1.00} and {$25.00} late fee on XX/XX/XXXX 5. An interest charge of {$1.00} XX/XX/XXXX 6. An interest charge of {$4.00} and {$25.00} late fee on XX/XX/XXXX 7. An interest charge of {$5.00} and {$38.00} late fee on XX/XX/XXXX 8. An interest charge of {$6.00} and {$38.00} late fee on XX/XX/XXXX 9. An interest charge of {$4.00} and late fee of {$25.00} on XXXX XXXX 10. An interest charge of {$3.00} and {$25.00} late fee on XXXX XXXX 11. An interest charge of {$4.00} and {$39.00} late fee on XXXX  XXXX 12. An interest charge of {$4.00} and {$39.00} late fee on XXXX XXXX 13. An interest charge of {$5.00} and {$39.00} late fee on XXXX XXXX 14. An interest charge of $ XXXXand {$39.00} late fee on XXXX XXXX  15. An interest charge of {$6.00} and {$39.00} late fee on XXXX XXXX  16. An interest charge of {$7.00} on XX/XX/XXXX A total of {$480.00} is the amount that the bank is asking me to pay. The amount was reversed but now I have been asked to pay.                                                                                                                                                                                                                                                                                                                                                                                                                                                                                                                                                                                                                                                                                                                                                                                                                                                                                                                                                                                                                                                                                                                                                                                                                                                                                                                                                                                                                                                                                                                                                                                                                                                                                        \n",
              "4      I Have contacted Credit Bureaus on numerous occasions to have incorrect or outdated personal information removed, however they are refusing to remove the information stating that item come back validated even though the information incorrect                                                                                                                                                                                                                                                                                                                                                                                                                                                                                                                                                                                                                                                                                                                                                                                                                                                                                                                                                                                                                                                                                                                                                                                                                                                                                                                                                                                                                                                                                                                                                                                                                                                                                                                                                                                                                                                                                                                                                                                                                                                                                                                                                                                                                                                                                                                                                                                                                                                                                                                                                                                                                                                                                                                                                                                                                                                                                                                                                                                                                                                                                                                                                                                                                                                                                                                                                                                                                                                                                                                                                                       \n",
              "...                                                                                                                                                                                                                                                  ...                                                                                                                                                                                                                                                                                                                                                                                                                                                                                                                                                                                                                                                                                                                                                                                                                                                                                                                                                                                                                                                                                                                                                                                                                                                                                                                                                                                                                                                                                                                                                                                                                                                                                                                                                                                                                                                                                                                                                                                                                                                                                                                                                                                                                                                                                                                                                                                                                                                                                                                                                                                                                                                                                                                                                                                                                                                                                                                                                                                                                                                                                                                                                                                                                                                                                                                                                                                                                                                                                                                                                                       \n",
              "45957  The debt collector is attempting to collect a debt for a truck that is not my account. Her name is XXXX XXXX and her phone is XXXX XXXX. When I call her back to tell her that this is not my account she asks for the number that SHE is calling. I do not know what number she is calling so I give her the main number to my place of work so she can remove it. That number does not come up in her system so there is nothing she can do. I keep getting calls from her and it is embarrassing and harassing at my professional medical office. This is not my debt and they have the wrong person but she has no way to remove me unless I can tell HER THE CORRECT NUMBER THAT SHE IS CALLING. This seems wrong to me.                                                                                                                                                                                                                                                                                                                                                                                                                                                                                                                                                                                                                                                                                                                                                                                                                                                                                                                                                                                                                                                                                                                                                                                                                                                                                                                                                                                                                                                                                                                                                                                                                                                                                                                                                                                                                                                                                                                                                                                                                                                                                                                                                                                                                                                                                                                                                                                                                                                                                                                                                                                                                                                                                                                                                                                                                                                                                                                                                                                                                                                                                           \n",
              "45958  Monday, XX/XX/2020 at approximately XXXX XXXX My husband and I went to the ATM at US Bank, XXXX, MO XXXX, attempted to deposit {$900.00} ( 4 - {$50.00}, 5 - {$20.00} and 6- {$100.00} ), the machine started having problems, it spit out {$700.00} of the money and continually tried to either discharge the other {$200.00} or keep it, it eventually stopped and closed up without dispensing the rest of our money. We immediately went into the branch, XXXX helped us, she got her keys and indicated that she was the one who handles the ATM transactions, 2 employees in the branch stated oh no, money is stuck in the ATM again, so this is obviously an ongoing problem. XXXX came back to the counter several minutes later and stated that she could not see anything on this side of the ATM, however she would be the one counting it and that a repair would be done tonight. I asked if I could call in the morning and she stated yes, I said I would call at XXXX XXXX and she said to give her more time than that. This has been the 2nd time that this has happened to us at the same branch, the other time was approximately 6 months ago. \\nXXXX called us on the way home and told me to report the dispute to the main US Bank number, I did and received a Dispute # XXXX as confirmation. \\nTuesday, XX/XX/2020 XXXX XXXX I called and spoke with XXXX, who indicated that the ATM had not been counted, there was an emergency, no one had been there to look at this machine, she did not know when this would happen, stated that she didnt have anything to do with the process and that it would have to be handled through the main office. I was dumbfounded and asked why she had said to call after she had a chance to count the ATM money, she got rude at this point and again stated there was an emergency and there was only 2 people working and did not know when she would get to it. \\nMain Number for US Bank XXXX Explained that it could take up to 10 business days to receive the credit and up to 45 for the completion of the dispute. \\nThe more I thought about this, the more upset I became, {$200.00} may not seem like a lot to the Tellers that work at the bank, however to most people it is a lot. The fact that she outright lied and that this is a continual problem with the fact that she treated me disrespectful and rudely trying to make me think I had misunderstood her has prompted me to take this as high as I need to for satisfaction. We have had an account with US Bank for over 5 years, with 0 overdrafts and it does not matter if I keep {$1.00} or {>= $1,000,000} in the account, the fact I choose to put my money in US Bank and then to be treated that way, is outrageous. \\nXXXX Friendly and helpful, attempted to transfer call to Supevisor XXXX XXXX, it did ring one time and then I was disconnected XXXX Attempted to help as well and provided the phone numbers for a complaint higher up I have made a formal complaint with the Corporate Office ( XXXX ) and am waiting for the District Manager to call me for a resolution. I have also filed a complaint with the Consumer Financial Protection Bureau and will continually research other options for a timely resolution to this matter. I can be reached at XXXX to further discuss this matter. \\nI posted this response to XXXX  on US Banks page and sent a XXXX  message, they responded that someone would call within one business day. \\nXXXX/Branch Mgr./XXXX  called and apologized, said there was miscommunication between XXXX and us and asked if there was anything else she could do. \\nFiled report with Federal Trade Commission and Office of the Comptroller of the Currency. \\nThe District Manager did not call as promised.   \n",
              "45959  I called Credit Control Corp and explained that this account was opened fraudulently by my estranged spouse. This account was opened 2 days after I left for XXXX basic training. I could not have opened this account for myself. The address in which the internet and cable company was listed as my estranged spouses address. They told me on XX/XX/2019 that they were going to take care of this account. It still remains on my credit file. I attempted to call them on XX/XX/2019 and began speaking to someone and then was hung up on. I could not reach them after that time.                                                                                                                                                                                                                                                                                                                                                                                                                                                                                                                                                                                                                                                                                                                                                                                                                                                                                                                                                                                                                                                                                                                                                                                                                                                                                                                                                                                                                                                                                                                                                                                                                                                                                                                                                                                                                                                                                                                                                                                                                                                                                                                                                                                                                                                                                                                                                                                                                                                                                                                                                                                                                                                                                                                                                                                                                                                                                                                                                                                                                                                                                                                                                                                                                              \n",
              "45960  This company is a nightmare with the escrow acct ..first it was trying to get them to remove my pmi which was suppose to be automatic ( I had to email them a copy of the contract to get them to comply I cant imagine how they wouldnt have this ) ..now they failed to pay my homeowners insurance I caught it day before and after many lies got someone to agree to overnight it so I dont loose insurance or be charged late fees ..now they show they took it out twice and are having to advance me money ... I find bbb had many complaints like this on them ..the escrow department lies every phone call and I have to make up to 8 calls about each situation ..I have never had to worry about my things being paid from others                                                                                                                                                                                                                                                                                                                                                                                                                                                                                                                                                                                                                                                                                                                                                                                                                                                                                                                                                                                                                                                                                                                                                                                                                                                                                                                                                                                                                                                                                                                                                                                                                                                                                                                                                                                                                                                                                                                                                                                                                                                                                                                                                                                                                                                                                                                                                                                                                                                                                                                                                                                                                                                                                                                                                                                                                                                                                                                                                                                                                                                                           \n",
              "45961  I filed a dispute to XXXX  regarding ambulatory service charges of {$1400.00} through XXXX XXXX. My insurance info was given many times so i am not sure why this account is in collections. When i filed a dispute it took very long for them to give an answer and i had to dig for the answer ( re file a dispute gave me my answer that XXXX  did nothing ). XXXX  never reached out to me or emailed me to tell me they had an answer. This info is incorrect and should not be in collections. This battered my credit score.                                                                                                                                                                                                                                                                                                                                                                                                                                                                                                                                                                                                                                                                                                                                                                                                                                                                                                                                                                                                                                                                                                                                                                                                                                                                                                                                                                                                                                                                                                                                                                                                                                                                                                                                                                                                                                                                                                                                                                                                                                                                                                                                                                                                                                                                                                                                                                                                                                                                                                                                                                                                                                                                                                                                                                                                                                                                                                                                                                                                                                                                                                                                                                                                                                                                                     \n",
              "\n",
              "                                                                               Company public response  \\\n",
              "0      Company has responded to the consumer and the CFPB and chooses not to provide a public response   \n",
              "1      Company has responded to the consumer and the CFPB and chooses not to provide a public response   \n",
              "2      NaN                                                                                               \n",
              "3      Company has responded to the consumer and the CFPB and chooses not to provide a public response   \n",
              "4      Company has responded to the consumer and the CFPB and chooses not to provide a public response   \n",
              "...                                                                                                ...   \n",
              "45957  Company has responded to the consumer and the CFPB and chooses not to provide a public response   \n",
              "45958  Company has responded to the consumer and the CFPB and chooses not to provide a public response   \n",
              "45959  Company believes it acted appropriately as authorized by contract or law                          \n",
              "45960  Company has responded to the consumer and the CFPB and chooses not to provide a public response   \n",
              "45961  NaN                                                                                               \n",
              "\n",
              "                                         Company State ZIP code  \\\n",
              "0      BARCLAYS BANK DELAWARE                     GA    300XX     \n",
              "1      CITIBANK, N.A.                             MD    210XX     \n",
              "2      JPMORGAN CHASE & CO.                       OH    436XX     \n",
              "3      BANK OF AMERICA, NATIONAL ASSOCIATION      CA    945XX     \n",
              "4      TRANSUNION INTERMEDIATE HOLDINGS, INC.     AR    723XX     \n",
              "...                                       ...     ..      ...     \n",
              "45957  National Enterprise Systems, Inc.          AK    99507     \n",
              "45958  U.S. BANCORP                               MO    63822     \n",
              "45959  R & B Corporation of Virginia              CA    925XX     \n",
              "45960  RoundPoint Mortgage Servicing Corporation  TN    NaN       \n",
              "45961  CAPITAL RESOURCE MANAGEMENT, INC.          NY    115XX     \n",
              "\n",
              "                Tags Consumer consent provided? Submitted via  \\\n",
              "0      NaN            Consent provided           Web            \n",
              "1      Servicemember  Consent provided           Web            \n",
              "2      NaN            Consent provided           Web            \n",
              "3      NaN            Consent provided           Web            \n",
              "4      NaN            Consent provided           Web            \n",
              "...    ...                         ...           ...            \n",
              "45957  NaN            Consent provided           Web            \n",
              "45958  NaN            Consent provided           Web            \n",
              "45959  Servicemember  Consent provided           Web            \n",
              "45960  NaN            Consent provided           Web            \n",
              "45961  NaN            Consent provided           Web            \n",
              "\n",
              "      Date sent to company Company response to consumer Timely response?  \\\n",
              "0      1/31/2020            Closed with monetary relief  Yes               \n",
              "1      4/22/2020            Closed with monetary relief  Yes               \n",
              "2      4/10/2020            Closed with explanation      Yes               \n",
              "3      6/21/2020            Closed with explanation      Yes               \n",
              "4      1/7/2020             Closed with explanation      Yes               \n",
              "...         ...                                 ...      ...               \n",
              "45957  8/1/2019             Closed with explanation      Yes               \n",
              "45958  1/15/2020            Closed with explanation      Yes               \n",
              "45959  8/7/2019             Closed with explanation      Yes               \n",
              "45960  9/21/2019            Closed with explanation      Yes               \n",
              "45961  3/12/2020            Closed with explanation      Yes               \n",
              "\n",
              "       Consumer disputed?  Complaint ID  \n",
              "0     NaN                  3516488       \n",
              "1     NaN                  3614033       \n",
              "2     NaN                  3601668       \n",
              "3     NaN                  3709033       \n",
              "4     NaN                  3486854       \n",
              "...    ..                      ...       \n",
              "45957 NaN                  3326713       \n",
              "45958 NaN                  3497068       \n",
              "45959 NaN                  3335071       \n",
              "45960 NaN                  3381777       \n",
              "45961 NaN                  3564065       \n",
              "\n",
              "[45962 rows x 18 columns]"
            ],
            "text/html": [
              "\n",
              "  <div id=\"df-f8fbe480-6d21-43db-997e-edcf448a560f\">\n",
              "    <div class=\"colab-df-container\">\n",
              "      <div>\n",
              "<style scoped>\n",
              "    .dataframe tbody tr th:only-of-type {\n",
              "        vertical-align: middle;\n",
              "    }\n",
              "\n",
              "    .dataframe tbody tr th {\n",
              "        vertical-align: top;\n",
              "    }\n",
              "\n",
              "    .dataframe thead th {\n",
              "        text-align: right;\n",
              "    }\n",
              "</style>\n",
              "<table border=\"1\" class=\"dataframe\">\n",
              "  <thead>\n",
              "    <tr style=\"text-align: right;\">\n",
              "      <th></th>\n",
              "      <th>Date received</th>\n",
              "      <th>Product</th>\n",
              "      <th>Sub-product</th>\n",
              "      <th>Issue</th>\n",
              "      <th>Sub-issue</th>\n",
              "      <th>Consumer complaint narrative</th>\n",
              "      <th>Company public response</th>\n",
              "      <th>Company</th>\n",
              "      <th>State</th>\n",
              "      <th>ZIP code</th>\n",
              "      <th>Tags</th>\n",
              "      <th>Consumer consent provided?</th>\n",
              "      <th>Submitted via</th>\n",
              "      <th>Date sent to company</th>\n",
              "      <th>Company response to consumer</th>\n",
              "      <th>Timely response?</th>\n",
              "      <th>Consumer disputed?</th>\n",
              "      <th>Complaint ID</th>\n",
              "    </tr>\n",
              "  </thead>\n",
              "  <tbody>\n",
              "    <tr>\n",
              "      <th>0</th>\n",
              "      <td>1/31/2020</td>\n",
              "      <td>Credit card or prepaid card</td>\n",
              "      <td>General-purpose credit card or charge card</td>\n",
              "      <td>Other features, terms, or problems</td>\n",
              "      <td>Problem with rewards from credit card</td>\n",
              "      <td>I had three credit cards with Barclays. An UBER card, an XXXX XXXX card, and an XXXX  card. The UBER card is the only one I had been using and it was the main credit card I used on a daily basis. In late XX/XX/XXXX, I got a letter from Barclays saying they had closed my XXXX XXXX card due to inactivity. So I went online to see what was going on and found out they had already also closed my XXXX card. Now this was a big deal to me because the XXXX card had rewards on it worth over {$1000.00}. So I called Barclays customer support the next day and ended up having to talk to a manager. The only thing the manager told me was Barclays could close my credit card without notice for any reason. And as much as I tried to get her to comment on the rewards I had, she would not comment on them. Then I notice in Barclays terms and conditions for the XXXX  card that they had a mailing address set up for customers who wanted to make a formal complaint. So I wrote a letter and mailed it via USPS certified mail. Ive been waiting for over a month and have not received a response. \\n\\nThe letter I sent Barclays is attached. It includes more detail such as the fact that I was checking the Barclays web site every month using Barclays mobile app for the XXXX. And even after Barclays closes your credit card, there is no notice in the app that the card has been closed. The card account just shows up completely like a normal account. So there was no way for me to realize the card had been closed. Ive got screen shots of Barclays XXXX app included in the letter that shows this. And there is an XXXX  card account statement included with the letter showing the amount of rewards I had in that account. \\n\\nThe USPS tracking number for the letter I sent Barclays is XXXX. If you check the USPS web site you can see I mailed it XX/XX/2019 and Barclays received it XX/XX/2019.</td>\n",
              "      <td>Company has responded to the consumer and the CFPB and chooses not to provide a public response</td>\n",
              "      <td>BARCLAYS BANK DELAWARE</td>\n",
              "      <td>GA</td>\n",
              "      <td>300XX</td>\n",
              "      <td>NaN</td>\n",
              "      <td>Consent provided</td>\n",
              "      <td>Web</td>\n",
              "      <td>1/31/2020</td>\n",
              "      <td>Closed with monetary relief</td>\n",
              "      <td>Yes</td>\n",
              "      <td>NaN</td>\n",
              "      <td>3516488</td>\n",
              "    </tr>\n",
              "    <tr>\n",
              "      <th>1</th>\n",
              "      <td>4/20/2020</td>\n",
              "      <td>Credit card or prepaid card</td>\n",
              "      <td>Store credit card</td>\n",
              "      <td>Problem with a purchase shown on your statement</td>\n",
              "      <td>Credit card company isn't resolving a dispute about a purchase on your statement</td>\n",
              "      <td>I purchased furniture from Macy 's. The product arrived so damaged that I could not return in the packaging that was provided. I offered them the opportunity to refund half of the purchase and I would keep the furniture and they would not have to pick it up. \\n\\nSince COVID19, they closed all customer service including their credit card servicing department. I filed a dispute and have heard nothing.</td>\n",
              "      <td>Company has responded to the consumer and the CFPB and chooses not to provide a public response</td>\n",
              "      <td>CITIBANK, N.A.</td>\n",
              "      <td>MD</td>\n",
              "      <td>210XX</td>\n",
              "      <td>Servicemember</td>\n",
              "      <td>Consent provided</td>\n",
              "      <td>Web</td>\n",
              "      <td>4/22/2020</td>\n",
              "      <td>Closed with monetary relief</td>\n",
              "      <td>Yes</td>\n",
              "      <td>NaN</td>\n",
              "      <td>3614033</td>\n",
              "    </tr>\n",
              "    <tr>\n",
              "      <th>2</th>\n",
              "      <td>4/10/2020</td>\n",
              "      <td>Checking or savings account</td>\n",
              "      <td>Checking account</td>\n",
              "      <td>Managing an account</td>\n",
              "      <td>Deposits and withdrawals</td>\n",
              "      <td>I deposited a {$800.00} check to Chase from my XXXX  husbands XXXX checking account on XX/XX/20. It cleared on XX/XX/20. Chase will not clear the check for 15 days. \\n\\nChase has consistently been putting extremely long holds on my XXXX  spouses checks to me. They have tied up {$1500.00} for 15 days just this week alone. Now we are late with rent. \\n\\nI called Chase and held for 2 hours and spoke to XXXX at XXXX. I also sent images of the cleared deposits to chase via secure messaging. \\n\\nXXXX refused to call XXXX with me in a conference call with XXXX to confirm the check cleared because she does not know how to do her job and interact with a XXXX  XXXX person through an XXXX. She said we could go out in the middle of a pandemic to a branch or just wait. She refused to call XXXX with all parties sitting right there trying to explain to her how to confirm a check cleared. \\n\\nOur lease is up for renewal and we are already late with our rent. We dont need XXXX   like XXXX who dont know how to do their job absolutely destroying our finances. \\n\\nI want the hold on the cleared check released and a courtesy of {$100.00} for the rent late fees they are causing. \\n\\nThis was XXXX XXXX Whatsoever you do to the least of these you do to me. Shame on Chase.</td>\n",
              "      <td>NaN</td>\n",
              "      <td>JPMORGAN CHASE &amp; CO.</td>\n",
              "      <td>OH</td>\n",
              "      <td>436XX</td>\n",
              "      <td>NaN</td>\n",
              "      <td>Consent provided</td>\n",
              "      <td>Web</td>\n",
              "      <td>4/10/2020</td>\n",
              "      <td>Closed with explanation</td>\n",
              "      <td>Yes</td>\n",
              "      <td>NaN</td>\n",
              "      <td>3601668</td>\n",
              "    </tr>\n",
              "    <tr>\n",
              "      <th>3</th>\n",
              "      <td>6/21/2020</td>\n",
              "      <td>Debt collection</td>\n",
              "      <td>Credit card debt</td>\n",
              "      <td>Attempts to collect debt not owed</td>\n",
              "      <td>Debt was already discharged in bankruptcy and is no longer owed</td>\n",
              "      <td>Id like to file a complaint against Bank of America who I have been contacting for a long time but Im unable to interact with one decent person. Last time I made a complaint thru CFPB against Bank of America, I did a receive a call from someone who was trying to harass me over the phone. And I also remember when I spoke to the debt collection agency regarding my account, and I was told that theres nothing that I have to pay and I should contact the bank. I contacted the bank again and they werent listening anything. They asked me to contact the debt collection agency. Im sick and tired of this entire situation and I fail to understand why am I being harassed by Bank of America when I have made all the dues/payments and I dont owe them anything. \\nOnce again Id like to inform u the following charges due to which I have received severe harassment by the Bank of America : 1. An interest charge of {$1.00} on XX/XX/XXXX 2. An interest charge of {$3.00} and {$25.00} late fee on XX/XX/XXXX 3. An interest charge of {$1.00} and {$25.00} late fee on XX/XX/XXXX 4. An interest charge of {$1.00} and {$25.00} late fee on XX/XX/XXXX 5. An interest charge of {$1.00} XX/XX/XXXX 6. An interest charge of {$4.00} and {$25.00} late fee on XX/XX/XXXX 7. An interest charge of {$5.00} and {$38.00} late fee on XX/XX/XXXX 8. An interest charge of {$6.00} and {$38.00} late fee on XX/XX/XXXX 9. An interest charge of {$4.00} and late fee of {$25.00} on XXXX XXXX 10. An interest charge of {$3.00} and {$25.00} late fee on XXXX XXXX 11. An interest charge of {$4.00} and {$39.00} late fee on XXXX  XXXX 12. An interest charge of {$4.00} and {$39.00} late fee on XXXX XXXX 13. An interest charge of {$5.00} and {$39.00} late fee on XXXX XXXX 14. An interest charge of $ XXXXand {$39.00} late fee on XXXX XXXX  15. An interest charge of {$6.00} and {$39.00} late fee on XXXX XXXX  16. An interest charge of {$7.00} on XX/XX/XXXX A total of {$480.00} is the amount that the bank is asking me to pay. The amount was reversed but now I have been asked to pay.</td>\n",
              "      <td>Company has responded to the consumer and the CFPB and chooses not to provide a public response</td>\n",
              "      <td>BANK OF AMERICA, NATIONAL ASSOCIATION</td>\n",
              "      <td>CA</td>\n",
              "      <td>945XX</td>\n",
              "      <td>NaN</td>\n",
              "      <td>Consent provided</td>\n",
              "      <td>Web</td>\n",
              "      <td>6/21/2020</td>\n",
              "      <td>Closed with explanation</td>\n",
              "      <td>Yes</td>\n",
              "      <td>NaN</td>\n",
              "      <td>3709033</td>\n",
              "    </tr>\n",
              "    <tr>\n",
              "      <th>4</th>\n",
              "      <td>1/7/2020</td>\n",
              "      <td>Debt collection</td>\n",
              "      <td>Other debt</td>\n",
              "      <td>Attempts to collect debt not owed</td>\n",
              "      <td>Debt is not yours</td>\n",
              "      <td>I Have contacted Credit Bureaus on numerous occasions to have incorrect or outdated personal information removed, however they are refusing to remove the information stating that item come back validated even though the information incorrect</td>\n",
              "      <td>Company has responded to the consumer and the CFPB and chooses not to provide a public response</td>\n",
              "      <td>TRANSUNION INTERMEDIATE HOLDINGS, INC.</td>\n",
              "      <td>AR</td>\n",
              "      <td>723XX</td>\n",
              "      <td>NaN</td>\n",
              "      <td>Consent provided</td>\n",
              "      <td>Web</td>\n",
              "      <td>1/7/2020</td>\n",
              "      <td>Closed with explanation</td>\n",
              "      <td>Yes</td>\n",
              "      <td>NaN</td>\n",
              "      <td>3486854</td>\n",
              "    </tr>\n",
              "    <tr>\n",
              "      <th>...</th>\n",
              "      <td>...</td>\n",
              "      <td>...</td>\n",
              "      <td>...</td>\n",
              "      <td>...</td>\n",
              "      <td>...</td>\n",
              "      <td>...</td>\n",
              "      <td>...</td>\n",
              "      <td>...</td>\n",
              "      <td>...</td>\n",
              "      <td>...</td>\n",
              "      <td>...</td>\n",
              "      <td>...</td>\n",
              "      <td>...</td>\n",
              "      <td>...</td>\n",
              "      <td>...</td>\n",
              "      <td>...</td>\n",
              "      <td>...</td>\n",
              "      <td>...</td>\n",
              "    </tr>\n",
              "    <tr>\n",
              "      <th>45957</th>\n",
              "      <td>8/1/2019</td>\n",
              "      <td>Debt collection</td>\n",
              "      <td>I do not know</td>\n",
              "      <td>Attempts to collect debt not owed</td>\n",
              "      <td>Debt is not yours</td>\n",
              "      <td>The debt collector is attempting to collect a debt for a truck that is not my account. Her name is XXXX XXXX and her phone is XXXX XXXX. When I call her back to tell her that this is not my account she asks for the number that SHE is calling. I do not know what number she is calling so I give her the main number to my place of work so she can remove it. That number does not come up in her system so there is nothing she can do. I keep getting calls from her and it is embarrassing and harassing at my professional medical office. This is not my debt and they have the wrong person but she has no way to remove me unless I can tell HER THE CORRECT NUMBER THAT SHE IS CALLING. This seems wrong to me.</td>\n",
              "      <td>Company has responded to the consumer and the CFPB and chooses not to provide a public response</td>\n",
              "      <td>National Enterprise Systems, Inc.</td>\n",
              "      <td>AK</td>\n",
              "      <td>99507</td>\n",
              "      <td>NaN</td>\n",
              "      <td>Consent provided</td>\n",
              "      <td>Web</td>\n",
              "      <td>8/1/2019</td>\n",
              "      <td>Closed with explanation</td>\n",
              "      <td>Yes</td>\n",
              "      <td>NaN</td>\n",
              "      <td>3326713</td>\n",
              "    </tr>\n",
              "    <tr>\n",
              "      <th>45958</th>\n",
              "      <td>1/15/2020</td>\n",
              "      <td>Checking or savings account</td>\n",
              "      <td>Checking account</td>\n",
              "      <td>Managing an account</td>\n",
              "      <td>Problem using a debit or ATM card</td>\n",
              "      <td>Monday, XX/XX/2020 at approximately XXXX XXXX My husband and I went to the ATM at US Bank, XXXX, MO XXXX, attempted to deposit {$900.00} ( 4 - {$50.00}, 5 - {$20.00} and 6- {$100.00} ), the machine started having problems, it spit out {$700.00} of the money and continually tried to either discharge the other {$200.00} or keep it, it eventually stopped and closed up without dispensing the rest of our money. We immediately went into the branch, XXXX helped us, she got her keys and indicated that she was the one who handles the ATM transactions, 2 employees in the branch stated oh no, money is stuck in the ATM again, so this is obviously an ongoing problem. XXXX came back to the counter several minutes later and stated that she could not see anything on this side of the ATM, however she would be the one counting it and that a repair would be done tonight. I asked if I could call in the morning and she stated yes, I said I would call at XXXX XXXX and she said to give her more time than that. This has been the 2nd time that this has happened to us at the same branch, the other time was approximately 6 months ago. \\nXXXX called us on the way home and told me to report the dispute to the main US Bank number, I did and received a Dispute # XXXX as confirmation. \\nTuesday, XX/XX/2020 XXXX XXXX I called and spoke with XXXX, who indicated that the ATM had not been counted, there was an emergency, no one had been there to look at this machine, she did not know when this would happen, stated that she didnt have anything to do with the process and that it would have to be handled through the main office. I was dumbfounded and asked why she had said to call after she had a chance to count the ATM money, she got rude at this point and again stated there was an emergency and there was only 2 people working and did not know when she would get to it. \\nMain Number for US Bank XXXX Explained that it could take up to 10 business days to receive the credit and up to 45 for the completion of the dispute. \\nThe more I thought about this, the more upset I became, {$200.00} may not seem like a lot to the Tellers that work at the bank, however to most people it is a lot. The fact that she outright lied and that this is a continual problem with the fact that she treated me disrespectful and rudely trying to make me think I had misunderstood her has prompted me to take this as high as I need to for satisfaction. We have had an account with US Bank for over 5 years, with 0 overdrafts and it does not matter if I keep {$1.00} or {&gt;= $1,000,000} in the account, the fact I choose to put my money in US Bank and then to be treated that way, is outrageous. \\nXXXX Friendly and helpful, attempted to transfer call to Supevisor XXXX XXXX, it did ring one time and then I was disconnected XXXX Attempted to help as well and provided the phone numbers for a complaint higher up I have made a formal complaint with the Corporate Office ( XXXX ) and am waiting for the District Manager to call me for a resolution. I have also filed a complaint with the Consumer Financial Protection Bureau and will continually research other options for a timely resolution to this matter. I can be reached at XXXX to further discuss this matter. \\nI posted this response to XXXX  on US Banks page and sent a XXXX  message, they responded that someone would call within one business day. \\nXXXX/Branch Mgr./XXXX  called and apologized, said there was miscommunication between XXXX and us and asked if there was anything else she could do. \\nFiled report with Federal Trade Commission and Office of the Comptroller of the Currency. \\nThe District Manager did not call as promised.</td>\n",
              "      <td>Company has responded to the consumer and the CFPB and chooses not to provide a public response</td>\n",
              "      <td>U.S. BANCORP</td>\n",
              "      <td>MO</td>\n",
              "      <td>63822</td>\n",
              "      <td>NaN</td>\n",
              "      <td>Consent provided</td>\n",
              "      <td>Web</td>\n",
              "      <td>1/15/2020</td>\n",
              "      <td>Closed with explanation</td>\n",
              "      <td>Yes</td>\n",
              "      <td>NaN</td>\n",
              "      <td>3497068</td>\n",
              "    </tr>\n",
              "    <tr>\n",
              "      <th>45959</th>\n",
              "      <td>8/7/2019</td>\n",
              "      <td>Debt collection</td>\n",
              "      <td>Other debt</td>\n",
              "      <td>Attempts to collect debt not owed</td>\n",
              "      <td>Debt was result of identity theft</td>\n",
              "      <td>I called Credit Control Corp and explained that this account was opened fraudulently by my estranged spouse. This account was opened 2 days after I left for XXXX basic training. I could not have opened this account for myself. The address in which the internet and cable company was listed as my estranged spouses address. They told me on XX/XX/2019 that they were going to take care of this account. It still remains on my credit file. I attempted to call them on XX/XX/2019 and began speaking to someone and then was hung up on. I could not reach them after that time.</td>\n",
              "      <td>Company believes it acted appropriately as authorized by contract or law</td>\n",
              "      <td>R &amp; B Corporation of Virginia</td>\n",
              "      <td>CA</td>\n",
              "      <td>925XX</td>\n",
              "      <td>Servicemember</td>\n",
              "      <td>Consent provided</td>\n",
              "      <td>Web</td>\n",
              "      <td>8/7/2019</td>\n",
              "      <td>Closed with explanation</td>\n",
              "      <td>Yes</td>\n",
              "      <td>NaN</td>\n",
              "      <td>3335071</td>\n",
              "    </tr>\n",
              "    <tr>\n",
              "      <th>45960</th>\n",
              "      <td>9/21/2019</td>\n",
              "      <td>Mortgage</td>\n",
              "      <td>Conventional home mortgage</td>\n",
              "      <td>Trouble during payment process</td>\n",
              "      <td>NaN</td>\n",
              "      <td>This company is a nightmare with the escrow acct ..first it was trying to get them to remove my pmi which was suppose to be automatic ( I had to email them a copy of the contract to get them to comply I cant imagine how they wouldnt have this ) ..now they failed to pay my homeowners insurance I caught it day before and after many lies got someone to agree to overnight it so I dont loose insurance or be charged late fees ..now they show they took it out twice and are having to advance me money ... I find bbb had many complaints like this on them ..the escrow department lies every phone call and I have to make up to 8 calls about each situation ..I have never had to worry about my things being paid from others</td>\n",
              "      <td>Company has responded to the consumer and the CFPB and chooses not to provide a public response</td>\n",
              "      <td>RoundPoint Mortgage Servicing Corporation</td>\n",
              "      <td>TN</td>\n",
              "      <td>NaN</td>\n",
              "      <td>NaN</td>\n",
              "      <td>Consent provided</td>\n",
              "      <td>Web</td>\n",
              "      <td>9/21/2019</td>\n",
              "      <td>Closed with explanation</td>\n",
              "      <td>Yes</td>\n",
              "      <td>NaN</td>\n",
              "      <td>3381777</td>\n",
              "    </tr>\n",
              "    <tr>\n",
              "      <th>45961</th>\n",
              "      <td>3/12/2020</td>\n",
              "      <td>Debt collection</td>\n",
              "      <td>Medical debt</td>\n",
              "      <td>Attempts to collect debt not owed</td>\n",
              "      <td>Debt was paid</td>\n",
              "      <td>I filed a dispute to XXXX  regarding ambulatory service charges of {$1400.00} through XXXX XXXX. My insurance info was given many times so i am not sure why this account is in collections. When i filed a dispute it took very long for them to give an answer and i had to dig for the answer ( re file a dispute gave me my answer that XXXX  did nothing ). XXXX  never reached out to me or emailed me to tell me they had an answer. This info is incorrect and should not be in collections. This battered my credit score.</td>\n",
              "      <td>NaN</td>\n",
              "      <td>CAPITAL RESOURCE MANAGEMENT, INC.</td>\n",
              "      <td>NY</td>\n",
              "      <td>115XX</td>\n",
              "      <td>NaN</td>\n",
              "      <td>Consent provided</td>\n",
              "      <td>Web</td>\n",
              "      <td>3/12/2020</td>\n",
              "      <td>Closed with explanation</td>\n",
              "      <td>Yes</td>\n",
              "      <td>NaN</td>\n",
              "      <td>3564065</td>\n",
              "    </tr>\n",
              "  </tbody>\n",
              "</table>\n",
              "<p>45962 rows × 18 columns</p>\n",
              "</div>\n",
              "      <button class=\"colab-df-convert\" onclick=\"convertToInteractive('df-f8fbe480-6d21-43db-997e-edcf448a560f')\"\n",
              "              title=\"Convert this dataframe to an interactive table.\"\n",
              "              style=\"display:none;\">\n",
              "        \n",
              "  <svg xmlns=\"http://www.w3.org/2000/svg\" height=\"24px\"viewBox=\"0 0 24 24\"\n",
              "       width=\"24px\">\n",
              "    <path d=\"M0 0h24v24H0V0z\" fill=\"none\"/>\n",
              "    <path d=\"M18.56 5.44l.94 2.06.94-2.06 2.06-.94-2.06-.94-.94-2.06-.94 2.06-2.06.94zm-11 1L8.5 8.5l.94-2.06 2.06-.94-2.06-.94L8.5 2.5l-.94 2.06-2.06.94zm10 10l.94 2.06.94-2.06 2.06-.94-2.06-.94-.94-2.06-.94 2.06-2.06.94z\"/><path d=\"M17.41 7.96l-1.37-1.37c-.4-.4-.92-.59-1.43-.59-.52 0-1.04.2-1.43.59L10.3 9.45l-7.72 7.72c-.78.78-.78 2.05 0 2.83L4 21.41c.39.39.9.59 1.41.59.51 0 1.02-.2 1.41-.59l7.78-7.78 2.81-2.81c.8-.78.8-2.07 0-2.86zM5.41 20L4 18.59l7.72-7.72 1.47 1.35L5.41 20z\"/>\n",
              "  </svg>\n",
              "      </button>\n",
              "      \n",
              "  <style>\n",
              "    .colab-df-container {\n",
              "      display:flex;\n",
              "      flex-wrap:wrap;\n",
              "      gap: 12px;\n",
              "    }\n",
              "\n",
              "    .colab-df-convert {\n",
              "      background-color: #E8F0FE;\n",
              "      border: none;\n",
              "      border-radius: 50%;\n",
              "      cursor: pointer;\n",
              "      display: none;\n",
              "      fill: #1967D2;\n",
              "      height: 32px;\n",
              "      padding: 0 0 0 0;\n",
              "      width: 32px;\n",
              "    }\n",
              "\n",
              "    .colab-df-convert:hover {\n",
              "      background-color: #E2EBFA;\n",
              "      box-shadow: 0px 1px 2px rgba(60, 64, 67, 0.3), 0px 1px 3px 1px rgba(60, 64, 67, 0.15);\n",
              "      fill: #174EA6;\n",
              "    }\n",
              "\n",
              "    [theme=dark] .colab-df-convert {\n",
              "      background-color: #3B4455;\n",
              "      fill: #D2E3FC;\n",
              "    }\n",
              "\n",
              "    [theme=dark] .colab-df-convert:hover {\n",
              "      background-color: #434B5C;\n",
              "      box-shadow: 0px 1px 3px 1px rgba(0, 0, 0, 0.15);\n",
              "      filter: drop-shadow(0px 1px 2px rgba(0, 0, 0, 0.3));\n",
              "      fill: #FFFFFF;\n",
              "    }\n",
              "  </style>\n",
              "\n",
              "      <script>\n",
              "        const buttonEl =\n",
              "          document.querySelector('#df-f8fbe480-6d21-43db-997e-edcf448a560f button.colab-df-convert');\n",
              "        buttonEl.style.display =\n",
              "          google.colab.kernel.accessAllowed ? 'block' : 'none';\n",
              "\n",
              "        async function convertToInteractive(key) {\n",
              "          const element = document.querySelector('#df-f8fbe480-6d21-43db-997e-edcf448a560f');\n",
              "          const dataTable =\n",
              "            await google.colab.kernel.invokeFunction('convertToInteractive',\n",
              "                                                     [key], {});\n",
              "          if (!dataTable) return;\n",
              "\n",
              "          const docLinkHtml = 'Like what you see? Visit the ' +\n",
              "            '<a target=\"_blank\" href=https://colab.research.google.com/notebooks/data_table.ipynb>data table notebook</a>'\n",
              "            + ' to learn more about interactive tables.';\n",
              "          element.innerHTML = '';\n",
              "          dataTable['output_type'] = 'display_data';\n",
              "          await google.colab.output.renderOutput(dataTable, element);\n",
              "          const docLink = document.createElement('div');\n",
              "          docLink.innerHTML = docLinkHtml;\n",
              "          element.appendChild(docLink);\n",
              "        }\n",
              "      </script>\n",
              "    </div>\n",
              "  </div>\n",
              "  "
            ]
          },
          "metadata": {},
          "execution_count": 4
        }
      ]
    },
    {
      "cell_type": "code",
      "source": [
        "df2=pd.read_csv(\"/content/drive/MyDrive/Consumer_Test.csv\")\n",
        "df2.columns"
      ],
      "metadata": {
        "colab": {
          "base_uri": "https://localhost:8080/"
        },
        "id": "-0toCY9F2IW3",
        "outputId": "fa591c75-ee00-4f9e-ed2e-a5840c33f563"
      },
      "execution_count": null,
      "outputs": [
        {
          "output_type": "execute_result",
          "data": {
            "text/plain": [
              "Index(['Date received', 'Product', 'Sub-product', 'Issue', 'Sub-issue',\n",
              "       'Consumer complaint narrative', 'Company public response', 'Company',\n",
              "       'State', 'ZIP code', 'Tags', 'Consumer consent provided?',\n",
              "       'Submitted via', 'Date sent to company', 'Company response to consumer',\n",
              "       'Timely response?', 'Consumer disputed?', 'Complaint ID'],\n",
              "      dtype='object')"
            ]
          },
          "metadata": {},
          "execution_count": 5
        }
      ]
    },
    {
      "cell_type": "code",
      "source": [
        "from sklearn.utils.class_weight import compute_class_weight\n",
        "class_weights = compute_class_weight(class_weight = \"balanced\", classes= np.unique(df['Product']), y= df['Product'])"
      ],
      "metadata": {
        "id": "8pxG40rc2IuN"
      },
      "execution_count": null,
      "outputs": []
    },
    {
      "cell_type": "code",
      "source": [
        "df['Product'].value_counts()"
      ],
      "metadata": {
        "colab": {
          "base_uri": "https://localhost:8080/"
        },
        "id": "jX2-EDB14H5r",
        "outputId": "8d7dbc32-a057-425a-82a6-85bff8b01dad"
      },
      "execution_count": null,
      "outputs": [
        {
          "output_type": "execute_result",
          "data": {
            "text/plain": [
              "Debt collection                17418\n",
              "Credit card or prepaid card    10554\n",
              "Mortgage                       7839 \n",
              "Checking or savings account    5602 \n",
              "Student loan                   2360 \n",
              "Vehicle loan or lease          2189 \n",
              "Name: Product, dtype: int64"
            ]
          },
          "metadata": {},
          "execution_count": 7
        }
      ]
    },
    {
      "cell_type": "code",
      "source": [
        "class_weights.sort()\n",
        "class_weights"
      ],
      "metadata": {
        "colab": {
          "base_uri": "https://localhost:8080/"
        },
        "id": "u7REC17O4SY4",
        "outputId": "7d4238f7-987d-4b49-eeed-ab49f9c995e0"
      },
      "execution_count": null,
      "outputs": [
        {
          "output_type": "execute_result",
          "data": {
            "text/plain": [
              "array([0.43979408, 0.72582275, 0.97720798, 1.3674283 , 3.24590395,\n",
              "       3.49946703])"
            ]
          },
          "metadata": {},
          "execution_count": 8
        }
      ]
    },
    {
      "cell_type": "code",
      "source": [
        "weights={}"
      ],
      "metadata": {
        "id": "BL29sisC5vom"
      },
      "execution_count": null,
      "outputs": []
    },
    {
      "cell_type": "code",
      "source": [
        "for index, weight in enumerate(class_weights) :\n",
        "  weights[index]=weight\n",
        "\n",
        "\n"
      ],
      "metadata": {
        "id": "FwgS8eUp52gS"
      },
      "execution_count": null,
      "outputs": []
    },
    {
      "cell_type": "code",
      "source": [
        "weights"
      ],
      "metadata": {
        "colab": {
          "base_uri": "https://localhost:8080/"
        },
        "id": "a4G8lnUB6M7O",
        "outputId": "cfb31003-2713-47f6-90b1-77ad98673d02"
      },
      "execution_count": null,
      "outputs": [
        {
          "output_type": "execute_result",
          "data": {
            "text/plain": [
              "{0: 0.439794082749646,\n",
              " 1: 0.7258227528267324,\n",
              " 2: 0.9772079772079773,\n",
              " 3: 1.367428299416875,\n",
              " 4: 3.2459039548022597,\n",
              " 5: 3.4994670321303487}"
            ]
          },
          "metadata": {},
          "execution_count": 11
        }
      ]
    },
    {
      "cell_type": "code",
      "source": [
        "dataset_train=tf.data.Dataset.from_tensor_slices((df['Consumer complaint narrative'].values,df['Product'].values))\n",
        "dataset_test=tf.data.Dataset.from_tensor_slices((df2['Consumer complaint narrative'].values,df2['Product'].values))"
      ],
      "metadata": {
        "id": "OwDdIgN86VYV"
      },
      "execution_count": null,
      "outputs": []
    },
    {
      "cell_type": "code",
      "source": [
        "for text , target in dataset_train.take(7):\n",
        "  print('Complaint:{}, Target:{}'.format(text,target))\n"
      ],
      "metadata": {
        "colab": {
          "base_uri": "https://localhost:8080/"
        },
        "id": "M5dBSS5g7FH-",
        "outputId": "6389be66-570b-412b-f55f-6dd44c5da78c"
      },
      "execution_count": null,
      "outputs": [
        {
          "output_type": "stream",
          "name": "stdout",
          "text": [
            "Complaint:b'I had three credit cards with Barclays. An UBER card, an XXXX XXXX card, and an XXXX  card. The UBER card is the only one I had been using and it was the main credit card I used on a daily basis. In late XX/XX/XXXX, I got a letter from Barclays saying they had closed my XXXX XXXX card due to inactivity. So I went online to see what was going on and found out they had already also closed my XXXX card. Now this was a big deal to me because the XXXX card had rewards on it worth over {$1000.00}. So I called Barclays customer support the next day and ended up having to talk to a manager. The only thing the manager told me was Barclays could close my credit card without notice for any reason. And as much as I tried to get her to comment on the rewards I had, she would not comment on them. Then I notice in Barclays terms and conditions for the XXXX  card that they had a mailing address set up for customers who wanted to make a formal complaint. So I wrote a letter and mailed it via USPS certified mail. Ive been waiting for over a month and have not received a response. \\n\\nThe letter I sent Barclays is attached. It includes more detail such as the fact that I was checking the Barclays web site every month using Barclays mobile app for the XXXX. And even after Barclays closes your credit card, there is no notice in the app that the card has been closed. The card account just shows up completely like a normal account. So there was no way for me to realize the card had been closed. Ive got screen shots of Barclays XXXX app included in the letter that shows this. And there is an XXXX  card account statement included with the letter showing the amount of rewards I had in that account. \\n\\nThe USPS tracking number for the letter I sent Barclays is XXXX. If you check the USPS web site you can see I mailed it XX/XX/2019 and Barclays received it XX/XX/2019.', Target:b'Credit card or prepaid card'\n",
            "Complaint:b\"I purchased furniture from Macy 's. The product arrived so damaged that I could not return in the packaging that was provided. I offered them the opportunity to refund half of the purchase and I would keep the furniture and they would not have to pick it up. \\n\\nSince COVID19, they closed all customer service including their credit card servicing department. I filed a dispute and have heard nothing.\", Target:b'Credit card or prepaid card'\n",
            "Complaint:b'I deposited a {$800.00} check to Chase from my XXXX  husbands XXXX checking account on XX/XX/20. It cleared on XX/XX/20. Chase will not clear the check for 15 days. \\n\\nChase has consistently been putting extremely long holds on my XXXX  spouses checks to me. They have tied up {$1500.00} for 15 days just this week alone. Now we are late with rent. \\n\\nI called Chase and held for 2 hours and spoke to XXXX at XXXX. I also sent images of the cleared deposits to chase via secure messaging. \\n\\nXXXX refused to call XXXX with me in a conference call with XXXX to confirm the check cleared because she does not know how to do her job and interact with a XXXX  XXXX person through an XXXX. She said we could go out in the middle of a pandemic to a branch or just wait. She refused to call XXXX with all parties sitting right there trying to explain to her how to confirm a check cleared. \\n\\nOur lease is up for renewal and we are already late with our rent. We dont need XXXX   like XXXX who dont know how to do their job absolutely destroying our finances. \\n\\nI want the hold on the cleared check released and a courtesy of {$100.00} for the rent late fees they are causing. \\n\\nThis was XXXX XXXX Whatsoever you do to the least of these you do to me. Shame on Chase.', Target:b'Checking or savings account'\n",
            "Complaint:b'Id like to file a complaint against Bank of America who I have been contacting for a long time but Im unable to interact with one decent person. Last time I made a complaint thru CFPB against Bank of America, I did a receive a call from someone who was trying to harass me over the phone. And I also remember when I spoke to the debt collection agency regarding my account, and I was told that theres nothing that I have to pay and I should contact the bank. I contacted the bank again and they werent listening anything. They asked me to contact the debt collection agency. Im sick and tired of this entire situation and I fail to understand why am I being harassed by Bank of America when I have made all the dues/payments and I dont owe them anything. \\nOnce again Id like to inform u the following charges due to which I have received severe harassment by the Bank of America : 1. An interest charge of {$1.00} on XX/XX/XXXX 2. An interest charge of {$3.00} and {$25.00} late fee on XX/XX/XXXX 3. An interest charge of {$1.00} and {$25.00} late fee on XX/XX/XXXX 4. An interest charge of {$1.00} and {$25.00} late fee on XX/XX/XXXX 5. An interest charge of {$1.00} XX/XX/XXXX 6. An interest charge of {$4.00} and {$25.00} late fee on XX/XX/XXXX 7. An interest charge of {$5.00} and {$38.00} late fee on XX/XX/XXXX 8. An interest charge of {$6.00} and {$38.00} late fee on XX/XX/XXXX 9. An interest charge of {$4.00} and late fee of {$25.00} on XXXX XXXX 10. An interest charge of {$3.00} and {$25.00} late fee on XXXX XXXX 11. An interest charge of {$4.00} and {$39.00} late fee on XXXX  XXXX 12. An interest charge of {$4.00} and {$39.00} late fee on XXXX XXXX 13. An interest charge of {$5.00} and {$39.00} late fee on XXXX XXXX 14. An interest charge of $ XXXXand {$39.00} late fee on XXXX XXXX  15. An interest charge of {$6.00} and {$39.00} late fee on XXXX XXXX  16. An interest charge of {$7.00} on XX/XX/XXXX A total of {$480.00} is the amount that the bank is asking me to pay. The amount was reversed but now I have been asked to pay.', Target:b'Debt collection'\n",
            "Complaint:b'I Have contacted Credit Bureaus on numerous occasions to have incorrect or outdated personal information removed, however they are refusing to remove the information stating that item come back validated even though the information incorrect', Target:b'Debt collection'\n",
            "Complaint:b'Sent letter requesting verification to this company more than 6 months ago. Advised company this debt does not belong to me and to cease and desist reporting this negatively on my consumer finance reports and the companies continue to report the debt as negative on my reports.', Target:b'Debt collection'\n",
            "Complaint:b'I had previously reported these as fraud : XX/XX/XXXX. XXXX XXXX XXXX. {$1500.00} XX/XX/XXXX XXXX. {$120.00} XX/XX/XXXX. XXXX. {$75.00} XX/XX/XXXX. XXXX. {$100.00} XX/XX/XXXX. XXXX. {$230.00} XX/XX/XXXX. XXXX XXXX. {$82.00} XX/XX/XXXX. XXXX. {$24.00} XX/XX/XXXX. XXXX. {$75.00} XX/XX/XXXX XXXX XXXX {$89.00} XX/XX/XXXX XXXX XXXX {$2.00} XX/XX/XXXX XXXX XXXX {$2.00} XX/XX/XXXX. XXXX XXXX {$60.00} XX/XX/XXXX XXXX XXXX {$94.00} XX/XX/XXXX. XXXX XXXX {$70.00} XX/XX/XXXX XXXX XXXX. {$77.00} XX/XX/XXXX. XXXX XXXX. {$88.00} Total : {$2700.00}', Target:b'Checking or savings account'\n"
          ]
        }
      ]
    },
    {
      "cell_type": "code",
      "source": [
        "for text , target in dataset_test.take(7):\n",
        "  print('Complaint:{}, Target:{}'.format(text,target))"
      ],
      "metadata": {
        "colab": {
          "base_uri": "https://localhost:8080/"
        },
        "id": "WygPM3by7pnl",
        "outputId": "d9dc37c0-e7d7-448c-b7fb-7e38a93c3e57"
      },
      "execution_count": null,
      "outputs": [
        {
          "output_type": "stream",
          "name": "stdout",
          "text": [
            "Complaint:b'( USAA MASTER PLAN TO COLLECT CANCELLATIONS OF DEBT ) USAA OPENS ( 2 ) Two DELIQUENT ACCOUNTS** This MUST be in Violation of Fair Credit. See attatched Mastercard statement XX/XX/XXXX *bal {$100.00} & Visa end XXXX. XXXX {$470.00} ) attatched were opened by USAA I DID NOT AUTHORIZE OR APPLY BOTH OPENED XX/XX/XXXX. See attatched USAA 1099-C. Visa/MSTR DEBT Account XXXX CANCELLATION DEBT {$9.00}, XXXX Box 5 Borrower ( * WAS ) personally liable Box 1 Date of Event XX/XX/XXXX. USAA COLLECTS USING FRAUDULENT DELIQUENT ACCOUNTS THEY CREATED. SEE ATTATCHED XX/XX/XXXX USAA ( DID NOT SETTLE UNTIL XX/XX/XXXX ** claiming to be deliquent selling account for collection. AND THE NEXT MONTH TWO CARDS XX/XX/XXXX USAA OPENED ) They opened 2 creditcards of member they claimed HAD A PAST DELIQUENT ACCOUNT??? See attatched XX/XX/XXXX CREDIT CARD FRAUD CLAIM claim date XX/XX/XXXX {$470.00} ( UNAUTHORIZED TRANSACTIONS DID OCCURRED. ) see attatched XX/XX/XXXX CFPB RESPONSE. XXXX XXXX of USAA staff CONFIRMED USAA *HELD ME LIABLE FOR THESE UNAUTHORIZED TRANSACTIONS {$470.00}. See attatched USAA REVIEW OF CLAIM. XX/XX/XXXX. USAA DETERMINED *NO FRADULENT ACTIVITY TO GET THE {$9.00}, XXXX BACK BY OPENING TWO FRAUDULENT ACCOUNTS Using my private ID data from MC XXXX USSA DID NOT CLOSE ... .AND then MADE A PAYMENT FOR ID THEFT I DID NOT AUTHORIZE STEALING SOCIAL SECURITY XX/XX/XXXX TO COLLECT THIS IDENINITY THEFT case XXXX. USAA ARE THE CRIMINALS IN MY HUMBLE OPINION.', Target:b'Credit card or prepaid card'\n",
            "Complaint:b'My name is XXXX XXXX. I am writing this letter because of the unfair treatment that I received from Bank of America. I have 1 checking and 2 credit card accounts ( one ending in XXXX and the other ending in XXXX ) with Bank of America. On XX/XX/XXXX, I received a letter stating that both of my credit accounts were closed due to \" Irregular transactions or other activity on one or more of your accounts, with us and or/affiliates, or on your credit profile \\'\\'. The reason provided on the letter doesn\\'t make any sense, because I couldn\\'t possibly have any irregular transactions, since I haven\\'t used one of my cards for a few months and the other card \\'s balance is less than {$300.00}. I contacted the bank to find out what the reason was and they provided me the same vague answer as it was stated on the letter.I was transferred from customer service to maintenance department to credit landing department. I spoke with 3 different people including a manager ( XXXX XXXX ). I asked her why my accounts were closed and she kept giving me the same vague answer, and when I asked her to provide me more information she stated that her answer will not change if I ask the same question over and over again. I then, asked her to transfer me to a different person or a supervisor she stated that she is the highest person in the department and the only person that I can speak to. I then told her that one of the customer service  representatives told me that the bank asked me to provide updated information, but I never did. I TRIED TO EXPLAIN HER THAT I NEVER RECEIVED ANY LETTERS ASKING ME TO PROVIDE ADDITIONAL INFORMATION BUT SHE SAID ITS NOT THE BANK \\'S FAULT AND THEY CANT DO ANYTHING ABOUT IT, ONCE THEY SENT OUT THE LETTERS ITS THE POSTAL SERVICE \\'S JOB TO GET THE LETTERS TO THE INDICATED ADDRESS. I asked her to give me the date of the first 2 letters and she stated that the letters were sent on XX/XX/XXXX. I then explained to her that\\'s NOT POSSIBLE because the letters that I received regarding my closed accounts is dated as of XX/XX/XXXX. She was very rude, disrespectful and from the beginning didn\\'t try to help me to resolve the issue. I tried to explain that closed accounts will effect my credit history and If I can do anything to solve this issue I will. She stated that she can\\'t do anything and that the bank doesn\\'t take into consideration the client \\'s credit record when they make their decision. I have been a client with Bank of America since XXXX and never had any issues with them nor a late payment. I am trying to resolve this issue and have them reverse the decision but was never given a chance to submit additional paperwork for an additional account review. At this point, I don\\'t want to continue with the complaints even though I received humiliating treatment from two of the employees from the credit card review team. All I want to do, is to have someone review this decision again and give me a chance to provide the additional information, since I never received any letters from the bank. In addition, I would like to see the copies of the letters that were sent out to me asking for more information so that I can see the DATES ON THOSE LETTERS.', Target:b'Credit card or prepaid card'\n",
            "Complaint:b\"This kind of account is placed as a charged off account, be sure to inform me precisely why there's a balance indicating on the document whetherit 's a charge off? The balance is in fact wrong, please make sure to reverseit to XXXX  or remove the item fully. Please also producedocumentation toverify all the charges and credits in this supposed account that caused to theextremely high credit figure you might have displayed on my account. My demand to present these records is a standard information demand in accordance with myrights honored within the fair credit billing act. If you fail to give these detailsper my civil rights petition, please make sure you quickly remove this specificwrong posting.\", Target:b'Vehicle loan or lease'\n",
            "Complaint:b'The Credit Acceptance Company was granted the right to garnish my wages beginning XX/XX/XXXX. Issue one is that i had no prior knowledge of this. There was no contact with me to try and work something out. I was notified of this garnishment by my HR on XX/XX/XXXX by email. \\nIssue two I already have a trumping 25 % deduction come from my gross income. Needing what I make to care for not only myself but also my XXXX  nephews and my XXXX. Who was recently injured and unable to fulfill his job requirements. That Monday XXXX XXXX XX/XX/XXXX to beg for them to stop the garnishment. Would receive voicemail leave a detailed message. As of XX/XX/XXXX I am still waiting for a response with no relief on my pay I will receive XX/XX/XXXX. Leaving me in a position where I must have been forced to look for another job to help ensure the care of my family is met. \\nIssue 3 when I agreed to obtain this vechile the loan I amount agreed to was around the XXXX dollar mark. I took possession of the vehicle in early XXXX payment arrangements were settled at around 220 every two weeks. ( Which equaled up to 440 monthly. ) May have been late and also one recovery of the vechile in XXXX. That I will not denie however they didnt repo the car untill summer of XXXX. Moral being from looking at their outstanding balance which reflects ofer XXXX. Which I honestly do not agree with due to having made pmts for 2 years. Then once they did repossess the vechile I continued contact, at which time I was informed XX/XX/XXXX the vechile was being sent to auction. I was informed and insured they would contact me with action price and balance left on account. At which time I was also informed that from that there would most likely be a XXXX balace due to not oweing much more towards the loan. I accepted the information and waited for futher contact on this information. Unfortunately it never came and was unable to connect with them due to time issues. ( My work start/end and their hours. So contact was never connected. ) I was continuously dircted to a voicemail. When I requested to speak with someone that was available I was left with zero information as an ending result. This was due to represnitve not having knowledge of my account. So I was left with no alternative to finding out any information. After about my XXXX call I was informed that the representative that was in charge of my loan information/ payments ect. wasnt going to be in the office for about two weeks due to prescheduled vaction time. Was informed apon her return she would contact me. It was at this point i decided to wait for her to reach out. It was at this point all contact was lost and never regained due to not fault of my own. \\nYears later I only recive court documents that were not even sent to me personally but left to the hr department at my job to provide them. Then looking over the estmated pay off date of XX/XX/XXXX is impossible to reached. At this time I feel as though this was done without my knowledge or consent. Which takes from my income I use to provide with. Futher more punished for their lack of communication. For I made many attempts to reach out with no answer or resolution. Nor the exsact information regarding the auction price/full amount of payments deduction/ and final ptice owed. \\nNow I am back at square 1 with the lack of communication and garnishments equaling out to 50 % deduction as well as medical and taxes. Placing great strains on ensuring the basic needs of my family are met.', Target:b'Vehicle loan or lease'\n",
            "Complaint:b'ESO Corporation, is in violation of 15 U.S.C 1692-1692p. On 2020 XX/XX/XXXX I XXXX XXXX do swear that I received a phone call at work from a Representative of ESO Corporation, in violation of 15 U.S.C 1692c ( a ) ( 3 ). The person i spoke with was both abusive and oppressive with me, in violation on 15 U.S.C 1692 ( d ).\\n\\nThe individual calling did not want to provide information to me that would help me to understand the propose of her call. I was unable to talk at the time of the initial call, so i called back and spoke with a several members of the staff. \\nI verified with them my name, and the number in which i was calling from. Each person i spoke too was unable to provide the purpose of there call unless i provided them with additional personal information. Each person i spoke with was both abusive and oppressive with me on the call in violation of 15 U.S.C.1692 ( d ) ( 2 ).', Target:b'Debt collection'\n",
            "Complaint:b'In lew of my previous complaint with Bank of America, I called them yesterday to request a print out of all transactions from my business checking account ending in XXXX. They are aware that I am getting a case against them for stealing {$5100.00} by proving the debits they took out on the agreed amount of {$100.00} per month from XX/XX/XXXX to late XXXX. They will continue giving me the run-a-round. I have a right to the records of my checking accounts.', Target:b'Checking or savings account'\n",
            "Complaint:b'I have made my car payments on time even after I lost my job. My car payment was my # 1 priority. I had surgery and when I made my Payment I didnt realized I paid the wrong amount. When I noticed I went back to pay the correct amount only to time the system was down and did not allow my payment to go through. I was unable to make a phone payment at the time. Being in the hospital but when I was able to make the Payment they have already reported to the credit bureaus. Now my score went down 154 points and i was denied for the house i was approved for already because of the late Payment. I would have not received a late Payment if the system was not down. I spoke to someone that said they would help me and nothing happened again I called and no one then was willing to help me. I have called several times with no help and I am living in an efficiency with my kids now because I will not be approved for anything right now. I only have 1 late Payment out of 14 months and it wasnt even my negligence. I would have corrected the mishave if they system was working as it should. The rep told me the system is always doing that. But that is not anything I could tell the rental property.', Target:b'Vehicle loan or lease'\n"
          ]
        }
      ]
    },
    {
      "cell_type": "code",
      "source": [
        "import tensorflow as tf\n",
        "\n",
        "table = tf.lookup.StaticHashTable(\n",
        "    initializer=tf.lookup.KeyValueTensorInitializer(\n",
        "        keys=tf.constant(['Credit card or prepaid card', 'Checking or savings account',\n",
        "                          'Debt collection', 'Student loan', 'Mortgage', 'Vehicle loan or lease']),\n",
        "        values=tf.constant([0, 1, 2, 3, 4, 5]),\n",
        "    ),\n",
        "    default_value=tf.constant(-1),\n",
        ")\n",
        "\n",
        "def target(x):\n",
        "    return table.lookup(x)\n"
      ],
      "metadata": {
        "id": "JR7U8xOe70eX"
      },
      "execution_count": null,
      "outputs": []
    },
    {
      "cell_type": "code",
      "source": [
        "def show_batch(dataset, size=7):\n",
        "  for batch,label in dataset.take(size):\n",
        "    print(batch.numpy())\n",
        "    print(target(label).numpy())"
      ],
      "metadata": {
        "id": "9ILxtpSl_nIM"
      },
      "execution_count": null,
      "outputs": []
    },
    {
      "cell_type": "code",
      "source": [
        "show_batch(dataset_test,8)"
      ],
      "metadata": {
        "id": "w5oOJxz7Ahst",
        "colab": {
          "base_uri": "https://localhost:8080/"
        },
        "outputId": "737daa80-eeb5-4f31-c969-0c5a0542ca7e"
      },
      "execution_count": null,
      "outputs": [
        {
          "output_type": "stream",
          "name": "stdout",
          "text": [
            "b'( USAA MASTER PLAN TO COLLECT CANCELLATIONS OF DEBT ) USAA OPENS ( 2 ) Two DELIQUENT ACCOUNTS** This MUST be in Violation of Fair Credit. See attatched Mastercard statement XX/XX/XXXX *bal {$100.00} & Visa end XXXX. XXXX {$470.00} ) attatched were opened by USAA I DID NOT AUTHORIZE OR APPLY BOTH OPENED XX/XX/XXXX. See attatched USAA 1099-C. Visa/MSTR DEBT Account XXXX CANCELLATION DEBT {$9.00}, XXXX Box 5 Borrower ( * WAS ) personally liable Box 1 Date of Event XX/XX/XXXX. USAA COLLECTS USING FRAUDULENT DELIQUENT ACCOUNTS THEY CREATED. SEE ATTATCHED XX/XX/XXXX USAA ( DID NOT SETTLE UNTIL XX/XX/XXXX ** claiming to be deliquent selling account for collection. AND THE NEXT MONTH TWO CARDS XX/XX/XXXX USAA OPENED ) They opened 2 creditcards of member they claimed HAD A PAST DELIQUENT ACCOUNT??? See attatched XX/XX/XXXX CREDIT CARD FRAUD CLAIM claim date XX/XX/XXXX {$470.00} ( UNAUTHORIZED TRANSACTIONS DID OCCURRED. ) see attatched XX/XX/XXXX CFPB RESPONSE. XXXX XXXX of USAA staff CONFIRMED USAA *HELD ME LIABLE FOR THESE UNAUTHORIZED TRANSACTIONS {$470.00}. See attatched USAA REVIEW OF CLAIM. XX/XX/XXXX. USAA DETERMINED *NO FRADULENT ACTIVITY TO GET THE {$9.00}, XXXX BACK BY OPENING TWO FRAUDULENT ACCOUNTS Using my private ID data from MC XXXX USSA DID NOT CLOSE ... .AND then MADE A PAYMENT FOR ID THEFT I DID NOT AUTHORIZE STEALING SOCIAL SECURITY XX/XX/XXXX TO COLLECT THIS IDENINITY THEFT case XXXX. USAA ARE THE CRIMINALS IN MY HUMBLE OPINION.'\n",
            "0\n",
            "b'My name is XXXX XXXX. I am writing this letter because of the unfair treatment that I received from Bank of America. I have 1 checking and 2 credit card accounts ( one ending in XXXX and the other ending in XXXX ) with Bank of America. On XX/XX/XXXX, I received a letter stating that both of my credit accounts were closed due to \" Irregular transactions or other activity on one or more of your accounts, with us and or/affiliates, or on your credit profile \\'\\'. The reason provided on the letter doesn\\'t make any sense, because I couldn\\'t possibly have any irregular transactions, since I haven\\'t used one of my cards for a few months and the other card \\'s balance is less than {$300.00}. I contacted the bank to find out what the reason was and they provided me the same vague answer as it was stated on the letter.I was transferred from customer service to maintenance department to credit landing department. I spoke with 3 different people including a manager ( XXXX XXXX ). I asked her why my accounts were closed and she kept giving me the same vague answer, and when I asked her to provide me more information she stated that her answer will not change if I ask the same question over and over again. I then, asked her to transfer me to a different person or a supervisor she stated that she is the highest person in the department and the only person that I can speak to. I then told her that one of the customer service  representatives told me that the bank asked me to provide updated information, but I never did. I TRIED TO EXPLAIN HER THAT I NEVER RECEIVED ANY LETTERS ASKING ME TO PROVIDE ADDITIONAL INFORMATION BUT SHE SAID ITS NOT THE BANK \\'S FAULT AND THEY CANT DO ANYTHING ABOUT IT, ONCE THEY SENT OUT THE LETTERS ITS THE POSTAL SERVICE \\'S JOB TO GET THE LETTERS TO THE INDICATED ADDRESS. I asked her to give me the date of the first 2 letters and she stated that the letters were sent on XX/XX/XXXX. I then explained to her that\\'s NOT POSSIBLE because the letters that I received regarding my closed accounts is dated as of XX/XX/XXXX. She was very rude, disrespectful and from the beginning didn\\'t try to help me to resolve the issue. I tried to explain that closed accounts will effect my credit history and If I can do anything to solve this issue I will. She stated that she can\\'t do anything and that the bank doesn\\'t take into consideration the client \\'s credit record when they make their decision. I have been a client with Bank of America since XXXX and never had any issues with them nor a late payment. I am trying to resolve this issue and have them reverse the decision but was never given a chance to submit additional paperwork for an additional account review. At this point, I don\\'t want to continue with the complaints even though I received humiliating treatment from two of the employees from the credit card review team. All I want to do, is to have someone review this decision again and give me a chance to provide the additional information, since I never received any letters from the bank. In addition, I would like to see the copies of the letters that were sent out to me asking for more information so that I can see the DATES ON THOSE LETTERS.'\n",
            "0\n",
            "b\"This kind of account is placed as a charged off account, be sure to inform me precisely why there's a balance indicating on the document whetherit 's a charge off? The balance is in fact wrong, please make sure to reverseit to XXXX  or remove the item fully. Please also producedocumentation toverify all the charges and credits in this supposed account that caused to theextremely high credit figure you might have displayed on my account. My demand to present these records is a standard information demand in accordance with myrights honored within the fair credit billing act. If you fail to give these detailsper my civil rights petition, please make sure you quickly remove this specificwrong posting.\"\n",
            "5\n",
            "b'The Credit Acceptance Company was granted the right to garnish my wages beginning XX/XX/XXXX. Issue one is that i had no prior knowledge of this. There was no contact with me to try and work something out. I was notified of this garnishment by my HR on XX/XX/XXXX by email. \\nIssue two I already have a trumping 25 % deduction come from my gross income. Needing what I make to care for not only myself but also my XXXX  nephews and my XXXX. Who was recently injured and unable to fulfill his job requirements. That Monday XXXX XXXX XX/XX/XXXX to beg for them to stop the garnishment. Would receive voicemail leave a detailed message. As of XX/XX/XXXX I am still waiting for a response with no relief on my pay I will receive XX/XX/XXXX. Leaving me in a position where I must have been forced to look for another job to help ensure the care of my family is met. \\nIssue 3 when I agreed to obtain this vechile the loan I amount agreed to was around the XXXX dollar mark. I took possession of the vehicle in early XXXX payment arrangements were settled at around 220 every two weeks. ( Which equaled up to 440 monthly. ) May have been late and also one recovery of the vechile in XXXX. That I will not denie however they didnt repo the car untill summer of XXXX. Moral being from looking at their outstanding balance which reflects ofer XXXX. Which I honestly do not agree with due to having made pmts for 2 years. Then once they did repossess the vechile I continued contact, at which time I was informed XX/XX/XXXX the vechile was being sent to auction. I was informed and insured they would contact me with action price and balance left on account. At which time I was also informed that from that there would most likely be a XXXX balace due to not oweing much more towards the loan. I accepted the information and waited for futher contact on this information. Unfortunately it never came and was unable to connect with them due to time issues. ( My work start/end and their hours. So contact was never connected. ) I was continuously dircted to a voicemail. When I requested to speak with someone that was available I was left with zero information as an ending result. This was due to represnitve not having knowledge of my account. So I was left with no alternative to finding out any information. After about my XXXX call I was informed that the representative that was in charge of my loan information/ payments ect. wasnt going to be in the office for about two weeks due to prescheduled vaction time. Was informed apon her return she would contact me. It was at this point i decided to wait for her to reach out. It was at this point all contact was lost and never regained due to not fault of my own. \\nYears later I only recive court documents that were not even sent to me personally but left to the hr department at my job to provide them. Then looking over the estmated pay off date of XX/XX/XXXX is impossible to reached. At this time I feel as though this was done without my knowledge or consent. Which takes from my income I use to provide with. Futher more punished for their lack of communication. For I made many attempts to reach out with no answer or resolution. Nor the exsact information regarding the auction price/full amount of payments deduction/ and final ptice owed. \\nNow I am back at square 1 with the lack of communication and garnishments equaling out to 50 % deduction as well as medical and taxes. Placing great strains on ensuring the basic needs of my family are met.'\n",
            "5\n",
            "b'ESO Corporation, is in violation of 15 U.S.C 1692-1692p. On 2020 XX/XX/XXXX I XXXX XXXX do swear that I received a phone call at work from a Representative of ESO Corporation, in violation of 15 U.S.C 1692c ( a ) ( 3 ). The person i spoke with was both abusive and oppressive with me, in violation on 15 U.S.C 1692 ( d ).\\n\\nThe individual calling did not want to provide information to me that would help me to understand the propose of her call. I was unable to talk at the time of the initial call, so i called back and spoke with a several members of the staff. \\nI verified with them my name, and the number in which i was calling from. Each person i spoke too was unable to provide the purpose of there call unless i provided them with additional personal information. Each person i spoke with was both abusive and oppressive with me on the call in violation of 15 U.S.C.1692 ( d ) ( 2 ).'\n",
            "2\n",
            "b'In lew of my previous complaint with Bank of America, I called them yesterday to request a print out of all transactions from my business checking account ending in XXXX. They are aware that I am getting a case against them for stealing {$5100.00} by proving the debits they took out on the agreed amount of {$100.00} per month from XX/XX/XXXX to late XXXX. They will continue giving me the run-a-round. I have a right to the records of my checking accounts.'\n",
            "1\n",
            "b'I have made my car payments on time even after I lost my job. My car payment was my # 1 priority. I had surgery and when I made my Payment I didnt realized I paid the wrong amount. When I noticed I went back to pay the correct amount only to time the system was down and did not allow my payment to go through. I was unable to make a phone payment at the time. Being in the hospital but when I was able to make the Payment they have already reported to the credit bureaus. Now my score went down 154 points and i was denied for the house i was approved for already because of the late Payment. I would have not received a late Payment if the system was not down. I spoke to someone that said they would help me and nothing happened again I called and no one then was willing to help me. I have called several times with no help and I am living in an efficiency with my kids now because I will not be approved for anything right now. I only have 1 late Payment out of 14 months and it wasnt even my negligence. I would have corrected the mishave if they system was working as it should. The rep told me the system is always doing that. But that is not anything I could tell the rental property.'\n",
            "5\n",
            "b\"We opened a joint checking account with TD bank in XXXX XXXX XXXX, Florida in early XXXX. When we opened the account we were told by the branch personnel that a 30-day hold would be placed on our deposits because we were a new customer to them. \\n\\nMore than 30 days has elapsed since we opened the account and the bank is still holding our deposits, and not giving us an adequate explanation for the holds. We are now unwilling to deposit any more money into this account because of the arbitrary hold policy ( whatever it may be from day to day ).\\n\\nWe deposited 4 checks ( total deposit {$5900.00} ) on XX/XX/2020. We have a receipt showing the deposit, along with copies of each check. One of the checks ( amount {$4200.00} ) was from my Pension custodian ( XXXX ). We have been informed by the local branch personnel that TD bank 's internal bank Fraud Operations department took issue with this particular check for some reason, but capriciously placed a deposit hold or the entire deposit amount. We have received a letter from that department to this effect, and have discussed the matter with the local branch personnel to attempt to get it resolved. As of this date the hold remains in place, in spite of the fact that the check has long since cleared the Federal Reserve System.\\n\\nThe local branch personnel are sympathetic but unable to effectively negotiate with the Fraud Operations department to resolve the issue. \\n\\nWhat are my options for recourse? When will the bank stop subjecting us to unreasonably withholding access to our funds? I have no confidence that this bank will fairly treat us in the future, and we plan to move our account elsewhere immediately.\"\n",
            "1\n"
          ]
        }
      ]
    },
    {
      "cell_type": "code",
      "source": [
        "def fetch(text,labels):\n",
        "  return text,tf.one_hot(target(labels),6)"
      ],
      "metadata": {
        "id": "ug-4AnLzBR8F"
      },
      "execution_count": null,
      "outputs": []
    },
    {
      "cell_type": "code",
      "source": [
        "train_data_f=dataset_train.map(fetch)\n",
        "test_data_f=dataset_test.map(fetch)"
      ],
      "metadata": {
        "id": "0Fs2ZABCBi5_"
      },
      "execution_count": null,
      "outputs": []
    },
    {
      "cell_type": "code",
      "source": [
        "next(iter(train_data_f))"
      ],
      "metadata": {
        "colab": {
          "base_uri": "https://localhost:8080/"
        },
        "id": "Q7V6VSTFB1KD",
        "outputId": "9e294330-4da7-4740-dd30-a3ca3dc62a31"
      },
      "execution_count": null,
      "outputs": [
        {
          "output_type": "execute_result",
          "data": {
            "text/plain": [
              "(<tf.Tensor: shape=(), dtype=string, numpy=b'I had three credit cards with Barclays. An UBER card, an XXXX XXXX card, and an XXXX  card. The UBER card is the only one I had been using and it was the main credit card I used on a daily basis. In late XX/XX/XXXX, I got a letter from Barclays saying they had closed my XXXX XXXX card due to inactivity. So I went online to see what was going on and found out they had already also closed my XXXX card. Now this was a big deal to me because the XXXX card had rewards on it worth over {$1000.00}. So I called Barclays customer support the next day and ended up having to talk to a manager. The only thing the manager told me was Barclays could close my credit card without notice for any reason. And as much as I tried to get her to comment on the rewards I had, she would not comment on them. Then I notice in Barclays terms and conditions for the XXXX  card that they had a mailing address set up for customers who wanted to make a formal complaint. So I wrote a letter and mailed it via USPS certified mail. Ive been waiting for over a month and have not received a response. \\n\\nThe letter I sent Barclays is attached. It includes more detail such as the fact that I was checking the Barclays web site every month using Barclays mobile app for the XXXX. And even after Barclays closes your credit card, there is no notice in the app that the card has been closed. The card account just shows up completely like a normal account. So there was no way for me to realize the card had been closed. Ive got screen shots of Barclays XXXX app included in the letter that shows this. And there is an XXXX  card account statement included with the letter showing the amount of rewards I had in that account. \\n\\nThe USPS tracking number for the letter I sent Barclays is XXXX. If you check the USPS web site you can see I mailed it XX/XX/2019 and Barclays received it XX/XX/2019.'>,\n",
              " <tf.Tensor: shape=(6,), dtype=float32, numpy=array([1., 0., 0., 0., 0., 0.], dtype=float32)>)"
            ]
          },
          "metadata": {},
          "execution_count": 72
        }
      ]
    },
    {
      "cell_type": "code",
      "source": [
        "train_data,train_labels=next(iter(train_data_f.batch(7)))"
      ],
      "metadata": {
        "id": "3gvdcLgEB9Lm"
      },
      "execution_count": null,
      "outputs": []
    },
    {
      "cell_type": "code",
      "source": [
        "embedding_url = \"https://tfhub.dev/google/tf2-preview/nnlm-en-dim128/1\"\n",
        "\n",
        "hub_layer = hub.KerasLayer(embedding_url,\n",
        "                           output_shape=[128],\n",
        "                           input_shape=[],\n",
        "                           dtype=tf.string,\n",
        "                           trainable=True)\n",
        "\n",
        "output = hub_layer(train_data[:-1])"
      ],
      "metadata": {
        "id": "dP2nxP3TCtFy"
      },
      "execution_count": null,
      "outputs": []
    },
    {
      "cell_type": "code",
      "source": [
        "model = tf.keras.Sequential()\n",
        "model.add(hub_layer)\n",
        "for units in [128, 128, 64, 32]:\n",
        "    model.add(tf.keras.layers.Dense(units, activation='relu'))\n",
        "    model.add(tf.keras.layers.Dropout(0.3))\n",
        "model.add(tf.keras.layers.Dense(6, activation='softmax'))"
      ],
      "metadata": {
        "id": "sCDWs0OTEweP"
      },
      "execution_count": null,
      "outputs": []
    },
    {
      "cell_type": "code",
      "source": [
        "model.compile(optimizer='adam',\n",
        "              loss=tf.keras.losses.CategoricalCrossentropy(from_logits=True),\n",
        "              metrics=['accuracy'])"
      ],
      "metadata": {
        "id": "UmglfONREFq6"
      },
      "execution_count": null,
      "outputs": []
    },
    {
      "cell_type": "code",
      "source": [
        "train_data_f = train_data_f.shuffle(5000).batch(450)\n",
        "test_data_f = test_data_f.batch(450)\n",
        "history = model.fit(train_data_f, epochs=4, validation_data=test_data_f, verbose=1)"
      ],
      "metadata": {
        "colab": {
          "base_uri": "https://localhost:8080/"
        },
        "id": "chnU2f8pGLZQ",
        "outputId": "b84388ed-941d-4de4-e28c-11557f20f3ee"
      },
      "execution_count": null,
      "outputs": [
        {
          "output_type": "stream",
          "name": "stdout",
          "text": [
            "Epoch 1/4\n"
          ]
        },
        {
          "output_type": "stream",
          "name": "stderr",
          "text": [
            "/usr/local/lib/python3.10/dist-packages/keras/backend.py:5561: UserWarning: \"`categorical_crossentropy` received `from_logits=True`, but the `output` argument was produced by a Softmax activation and thus does not represent logits. Was this intended?\n",
            "  output, from_logits = _get_logits(\n"
          ]
        },
        {
          "output_type": "stream",
          "name": "stdout",
          "text": [
            "103/103 [==============================] - 360s 3s/step - loss: 2.1956 - accuracy: 0.5039 - val_loss: 1.1357 - val_accuracy: 0.7705\n",
            "Epoch 2/4\n",
            "103/103 [==============================] - 371s 4s/step - loss: 1.0058 - accuracy: 0.8054 - val_loss: 0.7849 - val_accuracy: 0.8568\n",
            "Epoch 3/4\n",
            "103/103 [==============================] - 360s 4s/step - loss: 0.6486 - accuracy: 0.8901 - val_loss: 0.7267 - val_accuracy: 0.8795\n",
            "Epoch 4/4\n",
            "103/103 [==============================] - 371s 4s/step - loss: 0.4771 - accuracy: 0.9242 - val_loss: 0.7699 - val_accuracy: 0.8804\n"
          ]
        }
      ]
    },
    {
      "cell_type": "code",
      "source": [
        "len(list(dataset_test))"
      ],
      "metadata": {
        "colab": {
          "base_uri": "https://localhost:8080/"
        },
        "id": "qt3eUr37G817",
        "outputId": "9e691d80-219a-4bf2-8bf9-0759d0e40d85"
      },
      "execution_count": null,
      "outputs": [
        {
          "output_type": "execute_result",
          "data": {
            "text/plain": [
              "11491"
            ]
          },
          "metadata": {},
          "execution_count": 78
        }
      ]
    },
    {
      "cell_type": "code",
      "source": [
        "results=model.evaluate(dataset_test.map(fetch).batch(11491),verbose=2)\n",
        "print(results)"
      ],
      "metadata": {
        "id": "3gNsrCv4HHHD",
        "colab": {
          "base_uri": "https://localhost:8080/"
        },
        "outputId": "6f281c85-4ee2-45f4-b607-10039d3b6eb4"
      },
      "execution_count": null,
      "outputs": [
        {
          "output_type": "stream",
          "name": "stdout",
          "text": [
            "1/1 - 2s - loss: 0.7699 - accuracy: 0.8804 - 2s/epoch - 2s/step\n",
            "[0.7698541283607483, 0.88042813539505]\n"
          ]
        }
      ]
    },
    {
      "cell_type": "code",
      "source": [
        "test_data,test_labels=next(iter(dataset_test.map(fetch).batch(45963)))"
      ],
      "metadata": {
        "id": "d60RV4y7HaAw"
      },
      "execution_count": null,
      "outputs": []
    },
    {
      "cell_type": "code",
      "source": [
        "y_pred=model.predict(test_data)"
      ],
      "metadata": {
        "id": "2H97QJtrH6xc",
        "colab": {
          "base_uri": "https://localhost:8080/"
        },
        "outputId": "da25537b-7e3b-40cd-9ba6-86d3c2c42684"
      },
      "execution_count": null,
      "outputs": [
        {
          "output_type": "stream",
          "name": "stdout",
          "text": [
            "360/360 [==============================] - 160s 442ms/step\n"
          ]
        }
      ]
    },
    {
      "cell_type": "code",
      "source": [
        "from sklearn.metrics import classification_report\n",
        "print(classification_report(test_labels.numpy().argmax(axis=1),y_pred.argmax(axis=1)))"
      ],
      "metadata": {
        "id": "PhODjimcIBN6",
        "colab": {
          "base_uri": "https://localhost:8080/"
        },
        "outputId": "29191a85-8346-4f00-9c29-34e599aecd72"
      },
      "execution_count": null,
      "outputs": [
        {
          "output_type": "stream",
          "name": "stdout",
          "text": [
            "              precision    recall  f1-score   support\n",
            "\n",
            "           0       0.83      0.87      0.85      2639\n",
            "           1       0.86      0.82      0.84      1401\n",
            "           2       0.91      0.93      0.92      4354\n",
            "           3       0.82      0.80      0.81       590\n",
            "           4       0.93      0.92      0.92      1960\n",
            "           5       0.84      0.66      0.74       547\n",
            "\n",
            "    accuracy                           0.88     11491\n",
            "   macro avg       0.86      0.83      0.85     11491\n",
            "weighted avg       0.88      0.88      0.88     11491\n",
            "\n"
          ]
        }
      ]
    }
  ]
}